{
 "cells": [
  {
   "cell_type": "code",
   "execution_count": 2,
   "metadata": {},
   "outputs": [],
   "source": [
    "import numpy as np\n",
    "import re\n",
    "import matplotlib.pyplot as plt\n",
    "from collections import Counter\n",
    "import pandas as pd"
   ]
  },
  {
   "cell_type": "markdown",
   "metadata": {},
   "source": [
    "# Задание 1. Перестановка столбцов"
   ]
  },
  {
   "cell_type": "code",
   "execution_count": 257,
   "metadata": {},
   "outputs": [],
   "source": [
    "sentence = \"ои_нкадгверн_взоющ_ааястаб_оронтмрлвес_я_вмоозовож_оньтстейн_ярееви_рнембвй_ыариоси_л_ав_нс_еупу_амкйзовож_оньтс\""
   ]
  },
  {
   "cell_type": "code",
   "execution_count": 258,
   "metadata": {},
   "outputs": [
    {
     "data": {
      "text/plain": [
       "112"
      ]
     },
     "execution_count": 258,
     "metadata": {},
     "output_type": "execute_result"
    }
   ],
   "source": [
    "len(sentence)"
   ]
  },
  {
   "cell_type": "code",
   "execution_count": 259,
   "metadata": {},
   "outputs": [
    {
     "name": "stdout",
     "output_type": "stream",
     "text": [
      "56.0 x 2\n",
      "28.0 x 4\n",
      "16.0 x 7\n",
      "14.0 x 8\n"
     ]
    }
   ],
   "source": [
    "print(112/2, \"x\", 2)\n",
    "print(112/4, \"x\", 4)\n",
    "print(112/7, \"x\", 7)\n",
    "print(112/8, 'x', 8)"
   ]
  },
  {
   "cell_type": "code",
   "execution_count": 264,
   "metadata": {},
   "outputs": [
    {
     "data": {
      "text/html": [
       "<div>\n",
       "<style scoped>\n",
       "    .dataframe tbody tr th:only-of-type {\n",
       "        vertical-align: middle;\n",
       "    }\n",
       "\n",
       "    .dataframe tbody tr th {\n",
       "        vertical-align: top;\n",
       "    }\n",
       "\n",
       "    .dataframe thead th {\n",
       "        text-align: right;\n",
       "    }\n",
       "</style>\n",
       "<table border=\"1\" class=\"dataframe\">\n",
       "  <thead>\n",
       "    <tr style=\"text-align: right;\">\n",
       "      <th></th>\n",
       "      <th>0</th>\n",
       "      <th>1</th>\n",
       "      <th>2</th>\n",
       "      <th>3</th>\n",
       "      <th>4</th>\n",
       "      <th>5</th>\n",
       "      <th>6</th>\n",
       "      <th>7</th>\n",
       "    </tr>\n",
       "  </thead>\n",
       "  <tbody>\n",
       "    <tr>\n",
       "      <th>0</th>\n",
       "      <td>о</td>\n",
       "      <td>и</td>\n",
       "      <td>_</td>\n",
       "      <td>н</td>\n",
       "      <td>к</td>\n",
       "      <td>а</td>\n",
       "      <td>д</td>\n",
       "      <td>г</td>\n",
       "    </tr>\n",
       "    <tr>\n",
       "      <th>1</th>\n",
       "      <td>в</td>\n",
       "      <td>е</td>\n",
       "      <td>р</td>\n",
       "      <td>н</td>\n",
       "      <td>_</td>\n",
       "      <td>в</td>\n",
       "      <td>з</td>\n",
       "      <td>о</td>\n",
       "    </tr>\n",
       "    <tr>\n",
       "      <th>2</th>\n",
       "      <td>ю</td>\n",
       "      <td>щ</td>\n",
       "      <td>_</td>\n",
       "      <td>а</td>\n",
       "      <td>а</td>\n",
       "      <td>я</td>\n",
       "      <td>с</td>\n",
       "      <td>т</td>\n",
       "    </tr>\n",
       "    <tr>\n",
       "      <th>3</th>\n",
       "      <td>а</td>\n",
       "      <td>б</td>\n",
       "      <td>_</td>\n",
       "      <td>о</td>\n",
       "      <td>р</td>\n",
       "      <td>о</td>\n",
       "      <td>н</td>\n",
       "      <td>т</td>\n",
       "    </tr>\n",
       "    <tr>\n",
       "      <th>4</th>\n",
       "      <td>м</td>\n",
       "      <td>р</td>\n",
       "      <td>л</td>\n",
       "      <td>в</td>\n",
       "      <td>е</td>\n",
       "      <td>с</td>\n",
       "      <td>_</td>\n",
       "      <td>я</td>\n",
       "    </tr>\n",
       "    <tr>\n",
       "      <th>5</th>\n",
       "      <td>_</td>\n",
       "      <td>в</td>\n",
       "      <td>м</td>\n",
       "      <td>о</td>\n",
       "      <td>о</td>\n",
       "      <td>з</td>\n",
       "      <td>о</td>\n",
       "      <td>в</td>\n",
       "    </tr>\n",
       "    <tr>\n",
       "      <th>6</th>\n",
       "      <td>о</td>\n",
       "      <td>ж</td>\n",
       "      <td>_</td>\n",
       "      <td>о</td>\n",
       "      <td>н</td>\n",
       "      <td>ь</td>\n",
       "      <td>т</td>\n",
       "      <td>с</td>\n",
       "    </tr>\n",
       "    <tr>\n",
       "      <th>7</th>\n",
       "      <td>т</td>\n",
       "      <td>е</td>\n",
       "      <td>й</td>\n",
       "      <td>н</td>\n",
       "      <td>_</td>\n",
       "      <td>я</td>\n",
       "      <td>р</td>\n",
       "      <td>е</td>\n",
       "    </tr>\n",
       "    <tr>\n",
       "      <th>8</th>\n",
       "      <td>е</td>\n",
       "      <td>в</td>\n",
       "      <td>и</td>\n",
       "      <td>_</td>\n",
       "      <td>р</td>\n",
       "      <td>н</td>\n",
       "      <td>е</td>\n",
       "      <td>м</td>\n",
       "    </tr>\n",
       "    <tr>\n",
       "      <th>9</th>\n",
       "      <td>б</td>\n",
       "      <td>в</td>\n",
       "      <td>й</td>\n",
       "      <td>_</td>\n",
       "      <td>ы</td>\n",
       "      <td>а</td>\n",
       "      <td>р</td>\n",
       "      <td>и</td>\n",
       "    </tr>\n",
       "    <tr>\n",
       "      <th>10</th>\n",
       "      <td>о</td>\n",
       "      <td>с</td>\n",
       "      <td>и</td>\n",
       "      <td>_</td>\n",
       "      <td>л</td>\n",
       "      <td>_</td>\n",
       "      <td>а</td>\n",
       "      <td>в</td>\n",
       "    </tr>\n",
       "    <tr>\n",
       "      <th>11</th>\n",
       "      <td>_</td>\n",
       "      <td>н</td>\n",
       "      <td>с</td>\n",
       "      <td>_</td>\n",
       "      <td>е</td>\n",
       "      <td>у</td>\n",
       "      <td>п</td>\n",
       "      <td>у</td>\n",
       "    </tr>\n",
       "    <tr>\n",
       "      <th>12</th>\n",
       "      <td>_</td>\n",
       "      <td>а</td>\n",
       "      <td>м</td>\n",
       "      <td>к</td>\n",
       "      <td>й</td>\n",
       "      <td>з</td>\n",
       "      <td>о</td>\n",
       "      <td>в</td>\n",
       "    </tr>\n",
       "    <tr>\n",
       "      <th>13</th>\n",
       "      <td>о</td>\n",
       "      <td>ж</td>\n",
       "      <td>_</td>\n",
       "      <td>о</td>\n",
       "      <td>н</td>\n",
       "      <td>ь</td>\n",
       "      <td>т</td>\n",
       "      <td>с</td>\n",
       "    </tr>\n",
       "  </tbody>\n",
       "</table>\n",
       "</div>"
      ],
      "text/plain": [
       "    0  1  2  3  4  5  6  7\n",
       "0   о  и  _  н  к  а  д  г\n",
       "1   в  е  р  н  _  в  з  о\n",
       "2   ю  щ  _  а  а  я  с  т\n",
       "3   а  б  _  о  р  о  н  т\n",
       "4   м  р  л  в  е  с  _  я\n",
       "5   _  в  м  о  о  з  о  в\n",
       "6   о  ж  _  о  н  ь  т  с\n",
       "7   т  е  й  н  _  я  р  е\n",
       "8   е  в  и  _  р  н  е  м\n",
       "9   б  в  й  _  ы  а  р  и\n",
       "10  о  с  и  _  л  _  а  в\n",
       "11  _  н  с  _  е  у  п  у\n",
       "12  _  а  м  к  й  з  о  в\n",
       "13  о  ж  _  о  н  ь  т  с"
      ]
     },
     "execution_count": 264,
     "metadata": {},
     "output_type": "execute_result"
    }
   ],
   "source": [
    "mat = np.reshape(list(sentence), (14, 8))\n",
    "\n",
    "d = pd.DataFrame(mat)\n",
    "d"
   ]
  },
  {
   "cell_type": "markdown",
   "metadata": {},
   "source": [
    "столбцы 3 и 4 точно не соседи\n",
    "4 и 6 \n",
    "3 и 5 \n",
    "3 и 0\n",
    "\n",
    "год надо гнида гонка код книга ад"
   ]
  },
  {
   "cell_type": "code",
   "execution_count": 291,
   "metadata": {},
   "outputs": [
    {
     "data": {
      "text/html": [
       "<div>\n",
       "<style scoped>\n",
       "    .dataframe tbody tr th:only-of-type {\n",
       "        vertical-align: middle;\n",
       "    }\n",
       "\n",
       "    .dataframe tbody tr th {\n",
       "        vertical-align: top;\n",
       "    }\n",
       "\n",
       "    .dataframe thead th {\n",
       "        text-align: right;\n",
       "    }\n",
       "</style>\n",
       "<table border=\"1\" class=\"dataframe\">\n",
       "  <thead>\n",
       "    <tr style=\"text-align: right;\">\n",
       "      <th></th>\n",
       "      <th>5</th>\n",
       "      <th>6</th>\n",
       "      <th>2</th>\n",
       "      <th>3</th>\n",
       "      <th>1</th>\n",
       "      <th>4</th>\n",
       "      <th>0</th>\n",
       "      <th>7</th>\n",
       "    </tr>\n",
       "  </thead>\n",
       "  <tbody>\n",
       "    <tr>\n",
       "      <th>0</th>\n",
       "      <td>а</td>\n",
       "      <td>д</td>\n",
       "      <td>_</td>\n",
       "      <td>н</td>\n",
       "      <td>и</td>\n",
       "      <td>к</td>\n",
       "      <td>о</td>\n",
       "      <td>г</td>\n",
       "    </tr>\n",
       "    <tr>\n",
       "      <th>1</th>\n",
       "      <td>в</td>\n",
       "      <td>з</td>\n",
       "      <td>р</td>\n",
       "      <td>н</td>\n",
       "      <td>е</td>\n",
       "      <td>_</td>\n",
       "      <td>в</td>\n",
       "      <td>о</td>\n",
       "    </tr>\n",
       "    <tr>\n",
       "      <th>2</th>\n",
       "      <td>я</td>\n",
       "      <td>с</td>\n",
       "      <td>_</td>\n",
       "      <td>а</td>\n",
       "      <td>щ</td>\n",
       "      <td>а</td>\n",
       "      <td>ю</td>\n",
       "      <td>т</td>\n",
       "    </tr>\n",
       "    <tr>\n",
       "      <th>3</th>\n",
       "      <td>о</td>\n",
       "      <td>н</td>\n",
       "      <td>_</td>\n",
       "      <td>о</td>\n",
       "      <td>б</td>\n",
       "      <td>р</td>\n",
       "      <td>а</td>\n",
       "      <td>т</td>\n",
       "    </tr>\n",
       "    <tr>\n",
       "      <th>4</th>\n",
       "      <td>с</td>\n",
       "      <td>_</td>\n",
       "      <td>л</td>\n",
       "      <td>в</td>\n",
       "      <td>р</td>\n",
       "      <td>е</td>\n",
       "      <td>м</td>\n",
       "      <td>я</td>\n",
       "    </tr>\n",
       "    <tr>\n",
       "      <th>5</th>\n",
       "      <td>з</td>\n",
       "      <td>о</td>\n",
       "      <td>м</td>\n",
       "      <td>о</td>\n",
       "      <td>в</td>\n",
       "      <td>о</td>\n",
       "      <td>_</td>\n",
       "      <td>в</td>\n",
       "    </tr>\n",
       "    <tr>\n",
       "      <th>6</th>\n",
       "      <td>ь</td>\n",
       "      <td>т</td>\n",
       "      <td>_</td>\n",
       "      <td>о</td>\n",
       "      <td>ж</td>\n",
       "      <td>н</td>\n",
       "      <td>о</td>\n",
       "      <td>с</td>\n",
       "    </tr>\n",
       "    <tr>\n",
       "      <th>7</th>\n",
       "      <td>я</td>\n",
       "      <td>р</td>\n",
       "      <td>й</td>\n",
       "      <td>н</td>\n",
       "      <td>е</td>\n",
       "      <td>_</td>\n",
       "      <td>т</td>\n",
       "      <td>е</td>\n",
       "    </tr>\n",
       "    <tr>\n",
       "      <th>8</th>\n",
       "      <td>н</td>\n",
       "      <td>е</td>\n",
       "      <td>и</td>\n",
       "      <td>_</td>\n",
       "      <td>в</td>\n",
       "      <td>р</td>\n",
       "      <td>е</td>\n",
       "      <td>м</td>\n",
       "    </tr>\n",
       "    <tr>\n",
       "      <th>9</th>\n",
       "      <td>а</td>\n",
       "      <td>р</td>\n",
       "      <td>й</td>\n",
       "      <td>_</td>\n",
       "      <td>в</td>\n",
       "      <td>ы</td>\n",
       "      <td>б</td>\n",
       "      <td>и</td>\n",
       "    </tr>\n",
       "    <tr>\n",
       "      <th>10</th>\n",
       "      <td>_</td>\n",
       "      <td>а</td>\n",
       "      <td>и</td>\n",
       "      <td>_</td>\n",
       "      <td>с</td>\n",
       "      <td>л</td>\n",
       "      <td>о</td>\n",
       "      <td>в</td>\n",
       "    </tr>\n",
       "    <tr>\n",
       "      <th>11</th>\n",
       "      <td>у</td>\n",
       "      <td>п</td>\n",
       "      <td>с</td>\n",
       "      <td>_</td>\n",
       "      <td>н</td>\n",
       "      <td>е</td>\n",
       "      <td>_</td>\n",
       "      <td>у</td>\n",
       "    </tr>\n",
       "    <tr>\n",
       "      <th>12</th>\n",
       "      <td>з</td>\n",
       "      <td>о</td>\n",
       "      <td>м</td>\n",
       "      <td>к</td>\n",
       "      <td>а</td>\n",
       "      <td>й</td>\n",
       "      <td>_</td>\n",
       "      <td>в</td>\n",
       "    </tr>\n",
       "    <tr>\n",
       "      <th>13</th>\n",
       "      <td>ь</td>\n",
       "      <td>т</td>\n",
       "      <td>_</td>\n",
       "      <td>о</td>\n",
       "      <td>ж</td>\n",
       "      <td>н</td>\n",
       "      <td>о</td>\n",
       "      <td>с</td>\n",
       "    </tr>\n",
       "  </tbody>\n",
       "</table>\n",
       "</div>"
      ],
      "text/plain": [
       "    5  6  2  3  1  4  0  7\n",
       "0   а  д  _  н  и  к  о  г\n",
       "1   в  з  р  н  е  _  в  о\n",
       "2   я  с  _  а  щ  а  ю  т\n",
       "3   о  н  _  о  б  р  а  т\n",
       "4   с  _  л  в  р  е  м  я\n",
       "5   з  о  м  о  в  о  _  в\n",
       "6   ь  т  _  о  ж  н  о  с\n",
       "7   я  р  й  н  е  _  т  е\n",
       "8   н  е  и  _  в  р  е  м\n",
       "9   а  р  й  _  в  ы  б  и\n",
       "10  _  а  и  _  с  л  о  в\n",
       "11  у  п  с  _  н  е  _  у\n",
       "12  з  о  м  к  а  й  _  в\n",
       "13  ь  т  _  о  ж  н  о  с"
      ]
     },
     "execution_count": 291,
     "metadata": {},
     "output_type": "execute_result"
    }
   ],
   "source": [
    "cols = list(d.columns)\n",
    "d[[5,6,2,3,1,4,0,7]]"
   ]
  },
  {
   "cell_type": "markdown",
   "metadata": {},
   "source": [
    "ключ - 5,6,2,3,1,4,0,7"
   ]
  },
  {
   "cell_type": "code",
   "execution_count": 290,
   "metadata": {},
   "outputs": [
    {
     "data": {
      "text/html": [
       "<div>\n",
       "<style scoped>\n",
       "    .dataframe tbody tr th:only-of-type {\n",
       "        vertical-align: middle;\n",
       "    }\n",
       "\n",
       "    .dataframe tbody tr th {\n",
       "        vertical-align: top;\n",
       "    }\n",
       "\n",
       "    .dataframe thead th {\n",
       "        text-align: right;\n",
       "    }\n",
       "</style>\n",
       "<table border=\"1\" class=\"dataframe\">\n",
       "  <thead>\n",
       "    <tr style=\"text-align: right;\">\n",
       "      <th></th>\n",
       "      <th>3</th>\n",
       "      <th>1</th>\n",
       "      <th>4</th>\n",
       "      <th>0</th>\n",
       "      <th>7</th>\n",
       "      <th>6</th>\n",
       "      <th>5</th>\n",
       "      <th>2</th>\n",
       "    </tr>\n",
       "  </thead>\n",
       "  <tbody>\n",
       "    <tr>\n",
       "      <th>0</th>\n",
       "      <td>н</td>\n",
       "      <td>и</td>\n",
       "      <td>к</td>\n",
       "      <td>о</td>\n",
       "      <td>г</td>\n",
       "      <td>д</td>\n",
       "      <td>а</td>\n",
       "      <td>_</td>\n",
       "    </tr>\n",
       "    <tr>\n",
       "      <th>1</th>\n",
       "      <td>н</td>\n",
       "      <td>е</td>\n",
       "      <td>_</td>\n",
       "      <td>в</td>\n",
       "      <td>о</td>\n",
       "      <td>з</td>\n",
       "      <td>в</td>\n",
       "      <td>р</td>\n",
       "    </tr>\n",
       "    <tr>\n",
       "      <th>2</th>\n",
       "      <td>а</td>\n",
       "      <td>щ</td>\n",
       "      <td>а</td>\n",
       "      <td>ю</td>\n",
       "      <td>т</td>\n",
       "      <td>с</td>\n",
       "      <td>я</td>\n",
       "      <td>_</td>\n",
       "    </tr>\n",
       "    <tr>\n",
       "      <th>3</th>\n",
       "      <td>о</td>\n",
       "      <td>б</td>\n",
       "      <td>р</td>\n",
       "      <td>а</td>\n",
       "      <td>т</td>\n",
       "      <td>н</td>\n",
       "      <td>о</td>\n",
       "      <td>_</td>\n",
       "    </tr>\n",
       "    <tr>\n",
       "      <th>4</th>\n",
       "      <td>в</td>\n",
       "      <td>р</td>\n",
       "      <td>е</td>\n",
       "      <td>м</td>\n",
       "      <td>я</td>\n",
       "      <td>_</td>\n",
       "      <td>с</td>\n",
       "      <td>л</td>\n",
       "    </tr>\n",
       "    <tr>\n",
       "      <th>5</th>\n",
       "      <td>о</td>\n",
       "      <td>в</td>\n",
       "      <td>о</td>\n",
       "      <td>_</td>\n",
       "      <td>в</td>\n",
       "      <td>о</td>\n",
       "      <td>з</td>\n",
       "      <td>м</td>\n",
       "    </tr>\n",
       "    <tr>\n",
       "      <th>6</th>\n",
       "      <td>о</td>\n",
       "      <td>ж</td>\n",
       "      <td>н</td>\n",
       "      <td>о</td>\n",
       "      <td>с</td>\n",
       "      <td>т</td>\n",
       "      <td>ь</td>\n",
       "      <td>_</td>\n",
       "    </tr>\n",
       "    <tr>\n",
       "      <th>7</th>\n",
       "      <td>н</td>\n",
       "      <td>е</td>\n",
       "      <td>_</td>\n",
       "      <td>т</td>\n",
       "      <td>е</td>\n",
       "      <td>р</td>\n",
       "      <td>я</td>\n",
       "      <td>й</td>\n",
       "    </tr>\n",
       "    <tr>\n",
       "      <th>8</th>\n",
       "      <td>_</td>\n",
       "      <td>в</td>\n",
       "      <td>р</td>\n",
       "      <td>е</td>\n",
       "      <td>м</td>\n",
       "      <td>е</td>\n",
       "      <td>н</td>\n",
       "      <td>и</td>\n",
       "    </tr>\n",
       "    <tr>\n",
       "      <th>9</th>\n",
       "      <td>_</td>\n",
       "      <td>в</td>\n",
       "      <td>ы</td>\n",
       "      <td>б</td>\n",
       "      <td>и</td>\n",
       "      <td>р</td>\n",
       "      <td>а</td>\n",
       "      <td>й</td>\n",
       "    </tr>\n",
       "    <tr>\n",
       "      <th>10</th>\n",
       "      <td>_</td>\n",
       "      <td>с</td>\n",
       "      <td>л</td>\n",
       "      <td>о</td>\n",
       "      <td>в</td>\n",
       "      <td>а</td>\n",
       "      <td>_</td>\n",
       "      <td>и</td>\n",
       "    </tr>\n",
       "    <tr>\n",
       "      <th>11</th>\n",
       "      <td>_</td>\n",
       "      <td>н</td>\n",
       "      <td>е</td>\n",
       "      <td>_</td>\n",
       "      <td>у</td>\n",
       "      <td>п</td>\n",
       "      <td>у</td>\n",
       "      <td>с</td>\n",
       "    </tr>\n",
       "    <tr>\n",
       "      <th>12</th>\n",
       "      <td>к</td>\n",
       "      <td>а</td>\n",
       "      <td>й</td>\n",
       "      <td>_</td>\n",
       "      <td>в</td>\n",
       "      <td>о</td>\n",
       "      <td>з</td>\n",
       "      <td>м</td>\n",
       "    </tr>\n",
       "    <tr>\n",
       "      <th>13</th>\n",
       "      <td>о</td>\n",
       "      <td>ж</td>\n",
       "      <td>н</td>\n",
       "      <td>о</td>\n",
       "      <td>с</td>\n",
       "      <td>т</td>\n",
       "      <td>ь</td>\n",
       "      <td>_</td>\n",
       "    </tr>\n",
       "  </tbody>\n",
       "</table>\n",
       "</div>"
      ],
      "text/plain": [
       "    3  1  4  0  7  6  5  2\n",
       "0   н  и  к  о  г  д  а  _\n",
       "1   н  е  _  в  о  з  в  р\n",
       "2   а  щ  а  ю  т  с  я  _\n",
       "3   о  б  р  а  т  н  о  _\n",
       "4   в  р  е  м  я  _  с  л\n",
       "5   о  в  о  _  в  о  з  м\n",
       "6   о  ж  н  о  с  т  ь  _\n",
       "7   н  е  _  т  е  р  я  й\n",
       "8   _  в  р  е  м  е  н  и\n",
       "9   _  в  ы  б  и  р  а  й\n",
       "10  _  с  л  о  в  а  _  и\n",
       "11  _  н  е  _  у  п  у  с\n",
       "12  к  а  й  _  в  о  з  м\n",
       "13  о  ж  н  о  с  т  ь  _"
      ]
     },
     "execution_count": 290,
     "metadata": {},
     "output_type": "execute_result"
    }
   ],
   "source": [
    "cols = list(d.columns)\n",
    "d[[3,1,4,0,7,6,5,2]]\n"
   ]
  },
  {
   "cell_type": "markdown",
   "metadata": {},
   "source": [
    "# Задание 2. Двойная перестановка"
   ]
  },
  {
   "cell_type": "code",
   "execution_count": 292,
   "metadata": {},
   "outputs": [
    {
     "data": {
      "text/plain": [
       "48"
      ]
     },
     "execution_count": 292,
     "metadata": {},
     "output_type": "execute_result"
    }
   ],
   "source": [
    "string = \"еинл___тви_чеевц_ричлуи_а_рыгбр_еасд_еучмбадсуе_\"\n",
    "len(string)"
   ]
  },
  {
   "cell_type": "markdown",
   "metadata": {},
   "source": [
    "Предположим 8 х 6"
   ]
  },
  {
   "cell_type": "code",
   "execution_count": 326,
   "metadata": {},
   "outputs": [
    {
     "data": {
      "text/html": [
       "<div>\n",
       "<style scoped>\n",
       "    .dataframe tbody tr th:only-of-type {\n",
       "        vertical-align: middle;\n",
       "    }\n",
       "\n",
       "    .dataframe tbody tr th {\n",
       "        vertical-align: top;\n",
       "    }\n",
       "\n",
       "    .dataframe thead th {\n",
       "        text-align: right;\n",
       "    }\n",
       "</style>\n",
       "<table border=\"1\" class=\"dataframe\">\n",
       "  <thead>\n",
       "    <tr style=\"text-align: right;\">\n",
       "      <th></th>\n",
       "      <th>0</th>\n",
       "      <th>1</th>\n",
       "      <th>2</th>\n",
       "      <th>3</th>\n",
       "      <th>4</th>\n",
       "      <th>5</th>\n",
       "    </tr>\n",
       "  </thead>\n",
       "  <tbody>\n",
       "    <tr>\n",
       "      <th>0</th>\n",
       "      <td>е</td>\n",
       "      <td>и</td>\n",
       "      <td>н</td>\n",
       "      <td>л</td>\n",
       "      <td>_</td>\n",
       "      <td>_</td>\n",
       "    </tr>\n",
       "    <tr>\n",
       "      <th>1</th>\n",
       "      <td>_</td>\n",
       "      <td>т</td>\n",
       "      <td>в</td>\n",
       "      <td>и</td>\n",
       "      <td>_</td>\n",
       "      <td>ч</td>\n",
       "    </tr>\n",
       "    <tr>\n",
       "      <th>2</th>\n",
       "      <td>е</td>\n",
       "      <td>е</td>\n",
       "      <td>в</td>\n",
       "      <td>ц</td>\n",
       "      <td>_</td>\n",
       "      <td>р</td>\n",
       "    </tr>\n",
       "    <tr>\n",
       "      <th>3</th>\n",
       "      <td>и</td>\n",
       "      <td>ч</td>\n",
       "      <td>л</td>\n",
       "      <td>у</td>\n",
       "      <td>и</td>\n",
       "      <td>_</td>\n",
       "    </tr>\n",
       "    <tr>\n",
       "      <th>4</th>\n",
       "      <td>а</td>\n",
       "      <td>_</td>\n",
       "      <td>р</td>\n",
       "      <td>ы</td>\n",
       "      <td>г</td>\n",
       "      <td>б</td>\n",
       "    </tr>\n",
       "    <tr>\n",
       "      <th>5</th>\n",
       "      <td>р</td>\n",
       "      <td>_</td>\n",
       "      <td>е</td>\n",
       "      <td>а</td>\n",
       "      <td>с</td>\n",
       "      <td>д</td>\n",
       "    </tr>\n",
       "    <tr>\n",
       "      <th>6</th>\n",
       "      <td>_</td>\n",
       "      <td>е</td>\n",
       "      <td>у</td>\n",
       "      <td>ч</td>\n",
       "      <td>м</td>\n",
       "      <td>б</td>\n",
       "    </tr>\n",
       "    <tr>\n",
       "      <th>7</th>\n",
       "      <td>а</td>\n",
       "      <td>д</td>\n",
       "      <td>с</td>\n",
       "      <td>у</td>\n",
       "      <td>е</td>\n",
       "      <td>_</td>\n",
       "    </tr>\n",
       "  </tbody>\n",
       "</table>\n",
       "</div>"
      ],
      "text/plain": [
       "   0  1  2  3  4  5\n",
       "0  е  и  н  л  _  _\n",
       "1  _  т  в  и  _  ч\n",
       "2  е  е  в  ц  _  р\n",
       "3  и  ч  л  у  и  _\n",
       "4  а  _  р  ы  г  б\n",
       "5  р  _  е  а  с  д\n",
       "6  _  е  у  ч  м  б\n",
       "7  а  д  с  у  е  _"
      ]
     },
     "execution_count": 326,
     "metadata": {},
     "output_type": "execute_result"
    }
   ],
   "source": [
    "matrix= np.reshape(list(string), (8, 6))\n",
    "\n",
    "m = pd.DataFrame(matrix)\n",
    "m"
   ]
  },
  {
   "cell_type": "markdown",
   "metadata": {},
   "source": [
    "еи 6, ен 63, ел 35,\n",
    "ие 21, ин 32, ил 21,\n",
    "не 34, ни 58, нл х,\n",
    "ле 33, ли 36, лн 8\n"
   ]
  },
  {
   "cell_type": "code",
   "execution_count": 331,
   "metadata": {},
   "outputs": [
    {
     "data": {
      "text/html": [
       "<div>\n",
       "<style scoped>\n",
       "    .dataframe tbody tr th:only-of-type {\n",
       "        vertical-align: middle;\n",
       "    }\n",
       "\n",
       "    .dataframe tbody tr th {\n",
       "        vertical-align: top;\n",
       "    }\n",
       "\n",
       "    .dataframe thead th {\n",
       "        text-align: right;\n",
       "    }\n",
       "</style>\n",
       "<table border=\"1\" class=\"dataframe\">\n",
       "  <thead>\n",
       "    <tr style=\"text-align: right;\">\n",
       "      <th></th>\n",
       "      <th>3</th>\n",
       "      <th>1</th>\n",
       "      <th>4</th>\n",
       "      <th>2</th>\n",
       "      <th>0</th>\n",
       "      <th>5</th>\n",
       "    </tr>\n",
       "  </thead>\n",
       "  <tbody>\n",
       "    <tr>\n",
       "      <th>6</th>\n",
       "      <td>ч</td>\n",
       "      <td>е</td>\n",
       "      <td>м</td>\n",
       "      <td>у</td>\n",
       "      <td>_</td>\n",
       "      <td>б</td>\n",
       "    </tr>\n",
       "    <tr>\n",
       "      <th>4</th>\n",
       "      <td>ы</td>\n",
       "      <td>_</td>\n",
       "      <td>г</td>\n",
       "      <td>р</td>\n",
       "      <td>а</td>\n",
       "      <td>б</td>\n",
       "    </tr>\n",
       "    <tr>\n",
       "      <th>0</th>\n",
       "      <td>л</td>\n",
       "      <td>и</td>\n",
       "      <td>_</td>\n",
       "      <td>н</td>\n",
       "      <td>е</td>\n",
       "      <td>_</td>\n",
       "    </tr>\n",
       "    <tr>\n",
       "      <th>3</th>\n",
       "      <td>у</td>\n",
       "      <td>ч</td>\n",
       "      <td>и</td>\n",
       "      <td>л</td>\n",
       "      <td>и</td>\n",
       "      <td>_</td>\n",
       "    </tr>\n",
       "    <tr>\n",
       "      <th>5</th>\n",
       "      <td>а</td>\n",
       "      <td>_</td>\n",
       "      <td>с</td>\n",
       "      <td>е</td>\n",
       "      <td>р</td>\n",
       "      <td>д</td>\n",
       "    </tr>\n",
       "    <tr>\n",
       "      <th>2</th>\n",
       "      <td>ц</td>\n",
       "      <td>е</td>\n",
       "      <td>_</td>\n",
       "      <td>в</td>\n",
       "      <td>е</td>\n",
       "      <td>р</td>\n",
       "    </tr>\n",
       "    <tr>\n",
       "      <th>1</th>\n",
       "      <td>и</td>\n",
       "      <td>т</td>\n",
       "      <td>_</td>\n",
       "      <td>в</td>\n",
       "      <td>_</td>\n",
       "      <td>ч</td>\n",
       "    </tr>\n",
       "    <tr>\n",
       "      <th>7</th>\n",
       "      <td>у</td>\n",
       "      <td>д</td>\n",
       "      <td>е</td>\n",
       "      <td>с</td>\n",
       "      <td>а</td>\n",
       "      <td>_</td>\n",
       "    </tr>\n",
       "  </tbody>\n",
       "</table>\n",
       "</div>"
      ],
      "text/plain": [
       "   3  1  4  2  0  5\n",
       "6  ч  е  м  у  _  б\n",
       "4  ы  _  г  р  а  б\n",
       "0  л  и  _  н  е  _\n",
       "3  у  ч  и  л  и  _\n",
       "5  а  _  с  е  р  д\n",
       "2  ц  е  _  в  е  р\n",
       "1  и  т  _  в  _  ч\n",
       "7  у  д  е  с  а  _"
      ]
     },
     "execution_count": 331,
     "metadata": {},
     "output_type": "execute_result"
    }
   ],
   "source": [
    "m = m[[3,1,4,2,0,5]]\n",
    "m"
   ]
  },
  {
   "cell_type": "code",
   "execution_count": 332,
   "metadata": {},
   "outputs": [
    {
     "data": {
      "text/html": [
       "<div>\n",
       "<style scoped>\n",
       "    .dataframe tbody tr th:only-of-type {\n",
       "        vertical-align: middle;\n",
       "    }\n",
       "\n",
       "    .dataframe tbody tr th {\n",
       "        vertical-align: top;\n",
       "    }\n",
       "\n",
       "    .dataframe thead th {\n",
       "        text-align: right;\n",
       "    }\n",
       "</style>\n",
       "<table border=\"1\" class=\"dataframe\">\n",
       "  <thead>\n",
       "    <tr style=\"text-align: right;\">\n",
       "      <th></th>\n",
       "      <th>3</th>\n",
       "      <th>1</th>\n",
       "      <th>4</th>\n",
       "      <th>2</th>\n",
       "      <th>0</th>\n",
       "      <th>5</th>\n",
       "    </tr>\n",
       "  </thead>\n",
       "  <tbody>\n",
       "    <tr>\n",
       "      <th>6</th>\n",
       "      <td>ч</td>\n",
       "      <td>е</td>\n",
       "      <td>м</td>\n",
       "      <td>у</td>\n",
       "      <td>_</td>\n",
       "      <td>б</td>\n",
       "    </tr>\n",
       "    <tr>\n",
       "      <th>4</th>\n",
       "      <td>ы</td>\n",
       "      <td>_</td>\n",
       "      <td>г</td>\n",
       "      <td>р</td>\n",
       "      <td>а</td>\n",
       "      <td>б</td>\n",
       "    </tr>\n",
       "    <tr>\n",
       "      <th>0</th>\n",
       "      <td>л</td>\n",
       "      <td>и</td>\n",
       "      <td>_</td>\n",
       "      <td>н</td>\n",
       "      <td>е</td>\n",
       "      <td>_</td>\n",
       "    </tr>\n",
       "    <tr>\n",
       "      <th>3</th>\n",
       "      <td>у</td>\n",
       "      <td>ч</td>\n",
       "      <td>и</td>\n",
       "      <td>л</td>\n",
       "      <td>и</td>\n",
       "      <td>_</td>\n",
       "    </tr>\n",
       "    <tr>\n",
       "      <th>5</th>\n",
       "      <td>а</td>\n",
       "      <td>_</td>\n",
       "      <td>с</td>\n",
       "      <td>е</td>\n",
       "      <td>р</td>\n",
       "      <td>д</td>\n",
       "    </tr>\n",
       "    <tr>\n",
       "      <th>2</th>\n",
       "      <td>ц</td>\n",
       "      <td>е</td>\n",
       "      <td>_</td>\n",
       "      <td>в</td>\n",
       "      <td>е</td>\n",
       "      <td>р</td>\n",
       "    </tr>\n",
       "    <tr>\n",
       "      <th>1</th>\n",
       "      <td>и</td>\n",
       "      <td>т</td>\n",
       "      <td>_</td>\n",
       "      <td>в</td>\n",
       "      <td>_</td>\n",
       "      <td>ч</td>\n",
       "    </tr>\n",
       "    <tr>\n",
       "      <th>7</th>\n",
       "      <td>у</td>\n",
       "      <td>д</td>\n",
       "      <td>е</td>\n",
       "      <td>с</td>\n",
       "      <td>а</td>\n",
       "      <td>_</td>\n",
       "    </tr>\n",
       "  </tbody>\n",
       "</table>\n",
       "</div>"
      ],
      "text/plain": [
       "   3  1  4  2  0  5\n",
       "6  ч  е  м  у  _  б\n",
       "4  ы  _  г  р  а  б\n",
       "0  л  и  _  н  е  _\n",
       "3  у  ч  и  л  и  _\n",
       "5  а  _  с  е  р  д\n",
       "2  ц  е  _  в  е  р\n",
       "1  и  т  _  в  _  ч\n",
       "7  у  д  е  с  а  _"
      ]
     },
     "execution_count": 332,
     "metadata": {},
     "output_type": "execute_result"
    }
   ],
   "source": [
    "m = m.T[[6,4,0,3,5,2,1,7]]\n",
    "m = m.T\n",
    "m"
   ]
  },
  {
   "cell_type": "markdown",
   "metadata": {},
   "source": [
    "# Задание 3. Шифр простой замены"
   ]
  },
  {
   "cell_type": "code",
   "execution_count": 288,
   "metadata": {},
   "outputs": [],
   "source": [
    "text3 = \"20   43 40 13 15 91 31 54   75 31 91 12.   88 56,   88 40 29 15   71 31   13 15 91 12   49 91 15 – 91 15   29 31 54 40 91 12…   17   15 61 69 31 44,   20   75 15 36 31 54 62   75 25 15 29 84 65 31 25 56.   90 44   15 62 40 43 40 54 65 20   88 31 17 58 65 15 62 90 26   90,   75 15-17 90 29 90 44 15 44 56,   88 31 29 40 54 31 62 90 26   49 31 54 15 17 31 62   17   91 31 44 88 58 13   15 49 62 40 13   90   17   25 15 43 15 17 15 44 36 40 25 34 90 62 31   88 40   36 31 31.   15 88   62 56 25 90 54   49 91 15-91 15   15 49 31 88 12   75 25 15 91 90 17 88 15   75 40 13 88 56 69 31 31.   29 40 71 31   17 15 88 20 84 69 31 31.   56 17 90 29 31 17   44 31 88 20,   75 25 15 29 84 65 31 25   88 31 65 62 15 54 12 62 15   44 90 88 56 91   75 15 44 56 49 40 54 65 20,   17 65 91 40 17 54 20 20   15 91 17 90 65 36 56 84   49 31 54 84 65 91 12   88 40   44 31 65 91 15,   88 15 17 65 31   71 31   17 43 20 54   65 31 61 20   17   25 56 62 90,   43 40 91 56 36 90 54 65 90 52 40 25 31 91 56   90   43 40 52 15 17 15 25 90 54.\""
   ]
  },
  {
   "cell_type": "code",
   "execution_count": 289,
   "metadata": {},
   "outputs": [
    {
     "data": {
      "text/plain": [
       "(56, 296)"
      ]
     },
     "execution_count": 289,
     "metadata": {},
     "output_type": "execute_result"
    }
   ],
   "source": [
    "words = text3.split(sep='   ')\n",
    "spaces = len(words) - 1\n",
    "letters = text3.split(sep=' ')\n",
    "letters = list(filter(None, letters))\n",
    "spaces, len(letters)"
   ]
  },
  {
   "cell_type": "code",
   "execution_count": 290,
   "metadata": {},
   "outputs": [
    {
     "name": "stdout",
     "output_type": "stream",
     "text": [
      "297\n"
     ]
    }
   ],
   "source": [
    "letters = re.split(r\"[,. …–-]\", text3)\n",
    "letters = list(filter(None, letters))\n",
    "print(len(letters))\n",
    "letters = list(map(int, letters))"
   ]
  },
  {
   "cell_type": "code",
   "execution_count": 308,
   "metadata": {},
   "outputs": [
    {
     "data": {
      "image/png": "[encoded data removed]",
      "text/plain": [
       "<Figure size 1152x576 with 1 Axes>"
      ]
     },
     "metadata": {
      "needs_background": "light"
     },
     "output_type": "display_data"
    }
   ],
   "source": [
    "df = pd.DataFrame(letters)\n",
    "counts_sorted = df.value_counts()\n",
    "#print(counts_sorted)\n",
    "counts_sorted = pd.DataFrame(counts_sorted).rename(columns={0:'x'})\n",
    "counts_sorted['x'].plot.bar(figsize=(16,8))\n",
    "counts_sorted = counts_sorted.reset_index(drop=False)\n",
    "counts_sorted = counts_sorted[0].values"
   ]
  },
  {
   "cell_type": "code",
   "execution_count": 309,
   "metadata": {},
   "outputs": [
    {
     "data": {
      "text/plain": [
       "{15: 'О',\n",
       " 31: 'Е',\n",
       " 17: 'А',\n",
       " 90: 'И',\n",
       " 91: 'Т',\n",
       " 40: 'Н',\n",
       " 88: 'С',\n",
       " 54: 'Р',\n",
       " 65: 'В',\n",
       " 56: 'Л',\n",
       " 25: 'К',\n",
       " 62: 'М',\n",
       " 20: 'Д',\n",
       " 44: 'П',\n",
       " 29: 'У',\n",
       " 75: 'Я',\n",
       " 49: 'Ы',\n",
       " 43: 'З',\n",
       " 12: 'Ь',\n",
       " 13: 'Б',\n",
       " 36: 'Г',\n",
       " 84: 'Ч',\n",
       " 69: 'Й',\n",
       " 71: 'Х',\n",
       " 52: 'Ж',\n",
       " 58: 'Ю',\n",
       " 61: 'Ш',\n",
       " 26: 'Ц',\n",
       " 34: 'Щ'}"
      ]
     },
     "execution_count": 309,
     "metadata": {},
     "output_type": "execute_result"
    }
   ],
   "source": [
    "freq = \"ОЕАИТНСРВЛКМДПУЯЫЗЬБГЧЙХЖЮШЦЩЭФ\"\n",
    "freq = list(freq)\n",
    "freq_num = dict(zip(counts_sorted, freq))\n",
    "freq_num"
   ]
  },
  {
   "cell_type": "code",
   "execution_count": 310,
   "metadata": {},
   "outputs": [],
   "source": [
    "def swap_letters(text, l1, l2):\n",
    "    text = text.replace(l1, '#')\n",
    "    text = text.replace(l2, l1)\n",
    "    text = text.replace('#', l2)\n",
    "    return text"
   ]
  },
  {
   "cell_type": "code",
   "execution_count": 311,
   "metadata": {},
   "outputs": [
    {
     "name": "stdout",
     "output_type": "stream",
     "text": [
      "20   43 40 13 15 91 31 54   75 31 91 12.   88 56,   88 40 29 15   71 31   13 15 91 12   49 91 15 – 91 15   29 31 54 40 91 12…   17   15 61 69 31 44,   20   75 15 36 31 54 62   75 25 15 29 84 65 31 25 56.   90 44   15 62 40 43 40 54 65 20   88 31 17 58 65 15 62 90 26   90,   75 15-17 90 29 90 44 15 44 56,   88 31 29 40 54 31 62 90 26   49 31 54 15 17 31 62   17   91 31 44 88 58 13   15 49 62 40 13   90   17   25 15 43 15 17 15 44 36 40 25 34 90 62 31   88 40   36 31 31.   15 88   62 56 25 90 54   49 91 15-91 15   15 49 31 88 12   75 25 15 91 90 17 88 15   75 40 13 88 56 69 31 31.   29 40 71 31   17 15 88 20 84 69 31 31.   56 17 90 29 31 17   44 31 88 20,   75 25 15 29 84 65 31 25   88 31 65 62 15 54 12 62 15   44 90 88 56 91   75 15 44 56 49 40 54 65 20,   17 65 91 40 17 54 20 20   15 91 17 90 65 36 56 84   49 31 54 84 65 91 12   88 40   44 31 65 91 15,   88 15 17 65 31   71 31   17 43 20 54   65 31 61 20   17   25 56 62 90,   43 40 91 56 36 90 54 65 90 52 40 25 31 91 56   90   43 40 52 15 17 15 25 90 54.\n",
      "Д   З Н Б О Т Е Р   Я Е Т Ь.   С Л,   С Н У О   Х Е   Б О Т Ь   Ы Т О – Т О   У Е Р Н Т Ь…   А   О Ш Й Е П,   Д   Я О Г Е Р М   Я К О У Ч В Е К Л.   И П   О М Н З Н Р В Д   С Е А Ю В О М И Ц   И,   Я О-А И У И П О П Л,   С Е У Н Р Е М И Ц   Ы Е Р О А Е М   А   Т Е П С Ю Б   О Ы М Н Б   И   А   К О З О А О П Г Н К Щ И М Е   С Н   Г Е Е.   О С   М Л К И Р   Ы Т О-Т О   О Ы Е С Ь   Я К О Т И А С О   Я Н Б С Л Й Е Е.   У Н Х Е   А О С Д Ч Й Е Е.   Л А И У Е А   П Е С Д,   Я К О У Ч В Е К   С Е В М О Р Ь М О   П И С Л Т   Я О П Л Ы Н Р В Д,   А В Т Н А Р Д Д   О Т А И В Г Л Ч   Ы Е Р Ч В Т Ь   С Н   П Е В Т О,   С О А В Е   Х Е   А З Д Р   В Е Ш Д   А   К Л М И,   З Н Т Л Г И Р В И Ж Н К Е Т Л   И   З Н Ж О А О К И Р.\n"
     ]
    }
   ],
   "source": [
    "text31 = text3\n",
    "for num, letter in freq_num.items():\n",
    "    text31 = text31.replace(str(num), letter)\n",
    "\n",
    "\n",
    "print(text3)\n",
    "print(text31)"
   ]
  },
  {
   "cell_type": "code",
   "execution_count": 312,
   "metadata": {},
   "outputs": [
    {
     "name": "stdout",
     "output_type": "stream",
     "text": [
      "20   43 40 13 15 91 31 54   75 31 91 12.   88 56,   88 40 29 15   71 31   13 15 91 12   49 91 15 – 91 15   29 31 54 40 91 12…   17   15 61 69 31 44,   20   75 15 36 31 54 62   75 25 15 29 84 65 31 25 56.   90 44   15 62 40 43 40 54 65 20   88 31 17 58 65 15 62 90 26   90,   75 15-17 90 29 90 44 15 44 56,   88 31 29 40 54 31 62 90 26   49 31 54 15 17 31 62   17   91 31 44 88 58 13   15 49 62 40 13   90   17   25 15 43 15 17 15 44 36 40 25 34 90 62 31   88 40   36 31 31.   15 88   62 56 25 90 54   49 91 15-91 15   15 49 31 88 12   75 25 15 91 90 17 88 15   75 40 13 88 56 69 31 31.   29 40 71 31   17 15 88 20 84 69 31 31.   56 17 90 29 31 17   44 31 88 20,   75 25 15 29 84 65 31 25   88 31 65 62 15 54 12 62 15   44 90 88 56 91   75 15 44 56 49 40 54 65 20,   17 65 91 40 17 54 20 20   15 91 17 90 65 36 56 84   49 31 54 84 65 91 12   88 40   44 31 65 91 15,   88 15 17 65 31   71 31   17 43 20 54   65 31 61 20   17   25 56 62 90,   43 40 91 56 36 90 54 65 90 52 40 25 31 91 56   90   43 40 52 15 17 15 25 90 54.\n",
      "Я   З А Х О Т Е Л   П Е Т Ь.   Н У,   Н А Д О   Ж Е   Х О Т Ь   Ч Т О – Т О   Д Е Л А Т Ь…   В   О Б Щ Е М,   Я   П О Ш Е Л К   П Р О Д Ю С Е Р У.   И М   О К А З А Л С Я   Н Е В Ы С О К И Й   И,   П О-В И Д И М О М У,   Н Е Д А Л Е К И Й   Ч Е Л О В Е К   В   Т Е М Н Ы Х   О Ч К А Х   И   В   Р О З О В О М Ш А Р Ф И К Е   Н А   Ш Е Е.   О Н   К У Р И Л   Ч Т О-Т О   О Ч Е Н Ь   П Р О Т И В Н О   П А Х Н У Щ Е Е.   Д А Ж Е   В О Н Я Ю Щ Е Е.   У В И Д Е В   М Е Н Я,   П Р О Д Ю С Е Р   Н Е С К О Л Ь К О   М И Н У Т   П О М У Ч А Л С Я,   В С Т А В Л Я Я   О Т В И С Ш У Ю   Ч Е Л Ю С Т Ь   Н А   М Е С Т О,   Н О В С Е   Ж Е   В З Я Л   С Е Б Я   В   Р У К И,   З А Т У Ш И Л С И Г А Р Е Т У   И   З А Г О В О Р И Л.\n"
     ]
    }
   ],
   "source": [
    "text31 = swap_letters(text31, 'Ы', \"К\") # к = 49, ы = 25\n",
    "text31 = swap_letters(text31, 'С', \"Н\") # с = 40, н = 88\n",
    "text31 = swap_letters(text31, 'Л', \"У\") # л = 29, у = 56\n",
    "text31 = swap_letters(text31, 'Я', \"П\") # я = 44, п = 75\n",
    "text31 = swap_letters(text31, 'И', \"А\") # и = 17, а = 90\n",
    "text31 = swap_letters(text31, 'К', \"Ч\") # к = 84, ч = 49\n",
    "text31 = swap_letters(text31, 'Д', \"Я\") # д = 44, я = 20\n",
    "text31 = swap_letters(text31, 'А', \"С\") # а = 40, с = 90\n",
    "text31 = swap_letters(text31, 'Х', \"Б\") # х = 13, б = 71 Эврика , Я   З А Х О Т Е Р   П Е Т Ь.   Н У,   Н А Л О   Б Е   Х О Т Ь   Ч Т О – Т О   Л Е Р А Т Ь\n",
    "text31 = swap_letters(text31, 'Р', \"Л\") # р = 29, л = 54\n",
    "text31 = swap_letters(text31, 'Д', \"Р\") # д = 29, р = 44 \n",
    "text31 = swap_letters(text31, 'Б', \"Ж\") # б = 52, ж = 71 П А Х Н У Й Е Е\n",
    "text31 = swap_letters(text31, 'Щ', \"Й\") # щ = 69, й = 34 И О Н Я К Щ Е Е -> Воняющее?\n",
    "text31 = swap_letters(text31, 'И', \"В\") # и = 65, в = 17\n",
    "text31 = swap_letters(text31, 'Ю', \"К\") # ю = 84, к = 58 Ч Е Л Ю И Т Ь\n",
    "text31 = swap_letters(text31, 'И', \"С\") # и = 90, с = 65 О Т В И С Г У Ю\n",
    "text31 = swap_letters(text31, 'Г', \"Ш\") # г = 61, ш = 36 П Ы О Т И В Н О\n",
    "text31 = swap_letters(text31, 'Ы', \"Р\") # ы = 44, р = 25 Я   З А Х О Т Е Л   П Е Т Ь.   Н У,   Н А Д О   Ж Е   Х О Т Ь   Ч Т О – Т О   Д Е Л А Т Ь…   В   О Г Щ Е Ы,   Я   П О Ш Е Л М   П Р О Д Ю С Е Р У.   И Ы   О М А З А Л С Я   Н Е В К С О М И Ц   И,   П О-В И Д И Ы О Ы У,   Н Е Д А Л Е М И Ц   Ч Е Л О В Е М   В   Т Е Ы Н К Х   О Ч М А Х   И   В   Р О З О В О Ы Ш А Р Й И М Е   Н А   Ш Е Е.   О Н   М У Р И Л   Ч Т О-Т О   О Ч Е Н Ь   П Р О Т И В Н О   П А Х Н У Щ Е Е.   Д А Ж Е   В О Н Я Ю Щ Е Е.   У В И Д Е В   Ы Е Н Я,   П Р О Д Ю С Е Р   Н Е С М О Л Ь М О   Ы И Н У Т   П О Ы У Ч А Л С Я,   В С Т А В Л Я Я   О Т В И С Ш У Ю   Ч Е Л Ю С Т Ь   Н А   Ы Е С Т О,   Н О В С Е   Ж Е   В З Я Л   С Е Г Я   В   Р У М И,   З А Т У Ш И Л С И Б А Р Е Т У   И   З А Б О В О Р И Л.\n",
    "text31 = swap_letters(text31, 'Ы', \"М\") # ы = 62, м = 44\n",
    "text31 = swap_letters(text31, 'Ы', \"К\") # ы = 58, к = 62\n",
    "text31 = swap_letters(text31, 'Г', \"Б\") # г = 52, б = 61\n",
    "text31 = swap_letters(text31, 'Ц', \"Й\") # ц = 34, й = 26\n",
    "text31 = swap_letters(text31, 'Ф', \"Ц\") # ф = 34, ц = ?\n",
    "print(text3)\n",
    "print(text31)"
   ]
  },
  {
   "cell_type": "code",
   "execution_count": 343,
   "metadata": {},
   "outputs": [
    {
     "data": {
      "text/plain": [
       "{(12, 'Ь'),\n",
       " (13, 'Х'),\n",
       " (15, 'О'),\n",
       " (17, 'В'),\n",
       " (20, 'Я'),\n",
       " (25, 'Р'),\n",
       " (26, 'Й'),\n",
       " (29, 'Д'),\n",
       " (31, 'Е'),\n",
       " (34, 'Ф'),\n",
       " (36, 'Ш'),\n",
       " (40, 'А'),\n",
       " (43, 'З'),\n",
       " (44, 'М'),\n",
       " (49, 'Ч'),\n",
       " (52, 'Г'),\n",
       " (54, 'Л'),\n",
       " (56, 'У'),\n",
       " (58, 'Ы'),\n",
       " (61, 'Б'),\n",
       " (62, 'К'),\n",
       " (65, 'С'),\n",
       " (69, 'Щ'),\n",
       " (71, 'Ж'),\n",
       " (75, 'П'),\n",
       " (84, 'Ю'),\n",
       " (88, 'Н'),\n",
       " (90, 'И'),\n",
       " (91, 'Т')}"
      ]
     },
     "execution_count": 343,
     "metadata": {},
     "output_type": "execute_result"
    }
   ],
   "source": [
    "numbers = re.split(r\"[,. …–-]\", text3)\n",
    "numbers = list(filter(None, numbers))\n",
    "numbers = list(map(int, numbers))\n",
    "\n",
    "letters = re.split(r\"[,. …–-]\", text31)\n",
    "letters = list(filter(None, letters))\n",
    "\n",
    "set(zip(numbers, letters))"
   ]
  },
  {
   "cell_type": "markdown",
   "metadata": {},
   "source": [
    "# Задание 4. Шифр Виженера"
   ]
  },
  {
   "cell_type": "code",
   "execution_count": 4,
   "metadata": {},
   "outputs": [],
   "source": [
    "wg = \"ШД_АЕКУГВКОНЕНУСЦЧЙРХИЭ_ГЗОЬАЕЬЫЗАМЛЮТТЫЧРФМЗГЗГЯДРЛЮЧПИЖПЧДХСПНЫСПНЮПОЕЦПОГХЖФЭЧНУБХФЭЖИЬЧЮННШЫГЖЯЬЭУСЬВНФЫШДЩАБЖЯГЪЛФЫДХФ_АУХГАД_ЮГООЮЦХЧЬВЧООВНСАЕЦПЖСТЭДХЗЙТЮЦЪГЗКЪЧВУШЫБЕЖГВ_ОЕГЧЭЛЦГОЗГИЪЬХЖЙЫШДЦЬШН_ГБУ_НЮДЭНХПЭИ_ХФНВ_ГЫЮТ_НЕШЩСЮООЛЦЖЭНЦЧКЫДХПЕЗНЕАЖПЧЫЖДЪЩЧ_ЫЫШНУЙБДЧИЙУЯЗЦЫЧГХЦФЯГЙЬЪХУЬЬХНЦЮЫЦАИЦДЩЬ_ДЫЬННЬЬХЧКЩЕНЬЯЦДПЫШДЩЙВЫФЫЗХЧ_ЛЕАЦКДЩЖГЙОУЫТЬЙВДАЙЩЙПЫЫЮФЫЖЧБ_ЫТАЫЪУЩЬЭЕЪЫМЧЭЫБЕЖГВЕОГЖФЭЖВГМФЦГОЖГИЧТЫЦЩГЫДЧИЖЧЯО_ЫЧГХСЭБЫЧОЗЦТЧКИРЧЛГЗПНСДЧИЙУЯЗЦЫЧАЯДСЫЖЗЭАЯДЫЬЩН_НЫХ_ЕГОО_ЮЦ_АЕЧПСЮНОЙВДЯЬЖЦЫЙЗХФЖХППЕХЦОКГСЭФСВОШАКЩНЕНЕАЖПЧРХЫФКЫООЕГСЮЧУЧФЛЦДСЦДУЪИФЧКЫАУТГМК_ЕЮКОЙДКЯЬЛНЧЫЩЙФЫЫЙЧИЮЫПЫЮЦАГВЕОСЫФКЫЭЕЫЕВШАЬХЕОИИРКЫАУХЧХЫФКСДЯЬЭУЫЕВШАЬХМУАЖАОЛЫЬКЫЮЙФНХУО_ШУЧТВУШЫЖН_НЫСФЫЖЬЧМАКЬГФДЧИЦЬФЫЩУСЙЕГОЙХПЭ_ЫДУЮГНЕИЦГОМЮЦААБЕОШЗУОЬЭЖБЕЦДЛЖЫПАЛГТЬЦКДЩЙБФКЩЗКЯЙШДЭМВУСЬХГЦЦ_ЕОИЦДЩЙЗУЯЦЯДЮАЕКСЙЪНАМФДЧЫЖДЮЙБУЗЧУДЩЙЗУЯЙЩУОРЕЕЬГЗЦНЫЮДЧМДУЪЧЭШФНЖГОЮЖГОГВЩЭЛБЕДГФДСЫ_УЫКСВААЕКОШЗЕОМЮЦААБЕОЙМКЬЧХФЯЙЖЧПЫЮДСЫЗУОБЫДСЛЫСНЫВЕ_НГРКЕГДСЬЬТПЫЪРНЫДУЬГБЕЬГФДАЙЩУОЕЦПОЛЦЖЭНЦВАЫ_УЫКСВААЕ_ОТЗУОКГЛПЖИООМЗУЧНХТПЫТЧЭЗХМП_ЫХХЬЗА_ЪХФЯАЪЦАЬШАААХЬАЙХЗОЮЦЭФДХПЭЗВЕААХЙЭЖЬТПЫЩУЯАЗАОЖЦСЮЬХСЭФВУ_НСВОЮХЙСАЖЧЧЫДГАЧЪК_ЪЗДСЬЗЧОЙЪТПЕГДСЦХЪЭНЮЧФЫЕКТОАНЯЙШЕАЧХУ_ЮЫЮФИЮКОЙЗДЬЙАГОЮЦЧАЫДУЪИЦГОНЫСЬЙЗЕО_ГДЫЬ_ЦЧЗИСПЫГЙЧИХНЦЫЖФЭМГЖЭЮХЙЭЭЮЧКМФДЛНГИЭЫШУ_КГРКВГЗПНСЦНЫШ_ЩЖУЬПНЫРФЗХЦОЛЫИБЖФЧЭЛГСОТЗУРЦХФЭЯЦЦЧНСДЪЬБФБЫШ_ОКГЗЭЛЦЬЧЮЦКААХХБТ_ШОКЕУАГШДЕЬЖУСЙЯД_НЕКЪЕЮДСЫДУЪЙЬКЬГЫДСЦ_РОЬХЬАЙЧ_ОЮ_РМТЮЧКЫЫКОИЦДСМУДЩЬЗШЖЕИДЮЙХЬПМГЗЭДХЦАЛЫРЩАХЙЭЫИФЭЛЦДЬОХЕОТЗУРЦХЙЭЭЮЧКМФДЮЙАШЫЛЦППЫЮРЧЫДХЭМЗУООБКЬЧННАЧХГЯЕГЦАЧХЗЙЫИЦАЬВЕСЖЮЗПАЗКОЛЫИБЖФЧЭЛХЗОЕЦПЭАЗУОКЕУЫАЬШАЙМТЭАХФЭЖГЛФИЮКОНЦППЪХЦЧМЗКЫЬХФЯЙЖЧПЫВУОГБКФНХЦСЙЮДЭЯЕЕЬГМКЬГФДФМАНОЛЫИБЖФЧЭЛХТПРГЙЧНЖГОЮХФЯЙБКХОЗУЕИГСОКГРЭБЫТЧГХЦЩЬЬКЫЫШ_ОКЕНТЖИЭЧЖЮД_ЮЫЧО_АГООЬНЬЬХЗОГВЧЧЗВУШЫГЖ_НЦТЭЮ_КОЙЖЧПИЫЧ_ЪХРЧУСДТЬЪЕАЧХППЕГЗОМЫОЕЬЖДБЛГЗФИСДЭМШКЗАВННЫШЕЫЫВКОГЭЗФМЗТЭЫВНОНГДЩЬ_ШМЫБУЗИГЦАЧХЖФЛЫЧОЖЦСЮЬХЗО_ЦТЬЦЯДЫЙБКЬНХТЧЫЗУОЕЦПОНГЬЬЙХУЮГЖЕАЧХТПМЗХЭД_ШОЛЫИБЖФЧЭЛЦДСЬНЕОГВЩЭЛБЕДГФДЮЛЮЖЪГЭНААААЬЬХЬАЙХМПНЕШУИФКАЫЫКОМГЪЯЬВКЬГЫДЧЫШУ_КЕУЧВШКУАВНФ\""
   ]
  },
  {
   "cell_type": "code",
   "execution_count": 8,
   "metadata": {},
   "outputs": [
    {
     "data": {
      "text/plain": [
       "(12.0, (854, 1850), 0)"
      ]
     },
     "execution_count": 8,
     "metadata": {},
     "output_type": "execute_result"
    }
   ],
   "source": [
    "matchMatrix = np.zeros((len(wg) + 1, len(wg) + 1))\n",
    "max = 0\n",
    "countMax = 0\n",
    "matches = {}\n",
    "for x in range(1, len(wg)):\n",
    "    for y in range(x + 1, len(wg)):\n",
    "        if wg[x - 1] == wg[y - 1]:\n",
    "            matchMatrix[x][y] = matchMatrix[x-1][y-1] + 1\n",
    "            if matchMatrix[x][y] == max:\n",
    "                if not matchMatrix[x][y] in matches:\n",
    "                    matches[matchMatrix[x][y]] = []\n",
    "                matches[matchMatrix[x][y]].append((x,y))\n",
    "                countMax +=1\n",
    "            if matchMatrix[x][y] > max:\n",
    "                max = matchMatrix[x][y]\n",
    "                maxXY = (x,y)\n",
    "                countMax = 0\n",
    "            \n",
    "max, maxXY, countMax"
   ]
  },
  {
   "cell_type": "code",
   "execution_count": 16,
   "metadata": {},
   "outputs": [],
   "source": [
    "# Discard 1, 2\n",
    "del matches[1]\n",
    "del matches[2]"
   ]
  },
  {
   "cell_type": "code",
   "execution_count": 31,
   "metadata": {},
   "outputs": [
    {
     "data": {
      "text/plain": [
       "3"
      ]
     },
     "execution_count": 31,
     "metadata": {},
     "output_type": "execute_result"
    }
   ],
   "source": [
    "maxCount = 0\n",
    "maxFreq = 0 \n",
    "for key, value in matches.items():\n",
    "    if len(value) > maxCount:\n",
    "        maxFreq = key\n",
    "        maxCount = len(value)\n",
    "maxFreq = int(maxFreq)\n",
    "maxFreq"
   ]
  },
  {
   "cell_type": "code",
   "execution_count": 32,
   "metadata": {},
   "outputs": [
    {
     "name": "stdout",
     "output_type": "stream",
     "text": [
      "3.0 18\n",
      "4.0 2\n",
      "5.0 2\n",
      "6.0 1\n",
      "7.0 1\n",
      "10.0 1\n"
     ]
    }
   ],
   "source": [
    "for key, value in matches.items():\n",
    "    print(key, len(value))"
   ]
  },
  {
   "cell_type": "code",
   "execution_count": 22,
   "metadata": {},
   "outputs": [
    {
     "data": {
      "text/plain": [
       "[(6, 786),\n",
       " (6, 866),\n",
       " (11, 1731),\n",
       " (12, 1516),\n",
       " (14, 526),\n",
       " (27, 1699),\n",
       " (45, 1737),\n",
       " (56, 1676),\n",
       " (59, 255),\n",
       " (59, 531),\n",
       " (64, 68),\n",
       " (65, 1229),\n",
       " (66, 674),\n",
       " (66, 1154),\n",
       " (73, 945),\n",
       " (73, 1485),\n",
       " (73, 1797),\n",
       " (74, 151)]"
      ]
     },
     "execution_count": 22,
     "metadata": {},
     "output_type": "execute_result"
    }
   ],
   "source": [
    "matches[maxFreq]"
   ]
  },
  {
   "cell_type": "code",
   "execution_count": 33,
   "metadata": {},
   "outputs": [
    {
     "name": "stdout",
     "output_type": "stream",
     "text": [
      "АЕК АЕК\n",
      "АЕК АЕК\n",
      "ВКО ВКО\n",
      "КОН КОН\n",
      "НЕН НЕН\n",
      "ГЗО ГЗО\n",
      "ФМЗ ФМЗ\n",
      "ЧПИ ЧПИ\n",
      "ЖПЧ ЖПЧ\n",
      "ЖПЧ ЖПЧ\n",
      "СПН СПН\n",
      "ПНЫ ПНЫ\n",
      "НЫС НЫС\n",
      "НЫС НЫС\n",
      "ОЕЦ ОЕЦ\n",
      "ОЕЦ ОЕЦ\n",
      "ОЕЦ ОЕЦ\n",
      "ЕЦП ЕЦП\n"
     ]
    }
   ],
   "source": [
    "keywordProposal = matches[maxFreq]\n",
    "for x, y in keywordProposal:\n",
    "    print(wg[x-maxFreq:x], wg[y-maxFreq:y])"
   ]
  },
  {
   "cell_type": "markdown",
   "metadata": {},
   "source": [
    "### Чаще всего встретилась последовательность \"ОЕЦ\". Ниже приведены индексы в строке для нее"
   ]
  },
  {
   "cell_type": "code",
   "execution_count": 36,
   "metadata": {},
   "outputs": [
    {
     "data": {
      "text/plain": [
       "[67, 939, 1479, 1791]"
      ]
     },
     "execution_count": 36,
     "metadata": {},
     "output_type": "execute_result"
    }
   ],
   "source": [
    "indexes = [m.start() - maxFreq for m in re.finditer('ОЕЦ', wg)]\n",
    "indexes"
   ]
  },
  {
   "cell_type": "code",
   "execution_count": 37,
   "metadata": {},
   "outputs": [
    {
     "data": {
      "text/plain": [
       "[872, 540, 312]"
      ]
     },
     "execution_count": 37,
     "metadata": {},
     "output_type": "execute_result"
    }
   ],
   "source": [
    "lengths = []\n",
    "for i in range(1, len(indexes)):\n",
    "    lengths.append(indexes[i] - indexes[i-1])\n",
    "lengths"
   ]
  },
  {
   "cell_type": "markdown",
   "metadata": {},
   "source": [
    "НОД = 4"
   ]
  },
  {
   "cell_type": "code",
   "execution_count": 57,
   "metadata": {},
   "outputs": [
    {
     "data": {
      "text/plain": [
       "1911"
      ]
     },
     "execution_count": 57,
     "metadata": {},
     "output_type": "execute_result"
    }
   ],
   "source": [
    "wgl = list(wg)\n",
    "len(wgl)"
   ]
  },
  {
   "cell_type": "code",
   "execution_count": 65,
   "metadata": {},
   "outputs": [
    {
     "data": {
      "text/html": [
       "<div>\n",
       "<style scoped>\n",
       "    .dataframe tbody tr th:only-of-type {\n",
       "        vertical-align: middle;\n",
       "    }\n",
       "\n",
       "    .dataframe tbody tr th {\n",
       "        vertical-align: top;\n",
       "    }\n",
       "\n",
       "    .dataframe thead th {\n",
       "        text-align: right;\n",
       "    }\n",
       "</style>\n",
       "<table border=\"1\" class=\"dataframe\">\n",
       "  <thead>\n",
       "    <tr style=\"text-align: right;\">\n",
       "      <th></th>\n",
       "      <th>0</th>\n",
       "      <th>1</th>\n",
       "      <th>2</th>\n",
       "      <th>3</th>\n",
       "    </tr>\n",
       "  </thead>\n",
       "  <tbody>\n",
       "    <tr>\n",
       "      <th>0</th>\n",
       "      <td>Ш</td>\n",
       "      <td>Д</td>\n",
       "      <td>_</td>\n",
       "      <td>А</td>\n",
       "    </tr>\n",
       "    <tr>\n",
       "      <th>1</th>\n",
       "      <td>Е</td>\n",
       "      <td>К</td>\n",
       "      <td>У</td>\n",
       "      <td>Г</td>\n",
       "    </tr>\n",
       "    <tr>\n",
       "      <th>2</th>\n",
       "      <td>В</td>\n",
       "      <td>К</td>\n",
       "      <td>О</td>\n",
       "      <td>Н</td>\n",
       "    </tr>\n",
       "    <tr>\n",
       "      <th>3</th>\n",
       "      <td>Е</td>\n",
       "      <td>Н</td>\n",
       "      <td>У</td>\n",
       "      <td>С</td>\n",
       "    </tr>\n",
       "    <tr>\n",
       "      <th>4</th>\n",
       "      <td>Ц</td>\n",
       "      <td>Ч</td>\n",
       "      <td>Й</td>\n",
       "      <td>Р</td>\n",
       "    </tr>\n",
       "    <tr>\n",
       "      <th>...</th>\n",
       "      <td>...</td>\n",
       "      <td>...</td>\n",
       "      <td>...</td>\n",
       "      <td>...</td>\n",
       "    </tr>\n",
       "    <tr>\n",
       "      <th>473</th>\n",
       "      <td>Ы</td>\n",
       "      <td>Д</td>\n",
       "      <td>Ч</td>\n",
       "      <td>Ы</td>\n",
       "    </tr>\n",
       "    <tr>\n",
       "      <th>474</th>\n",
       "      <td>Ш</td>\n",
       "      <td>У</td>\n",
       "      <td>_</td>\n",
       "      <td>К</td>\n",
       "    </tr>\n",
       "    <tr>\n",
       "      <th>475</th>\n",
       "      <td>Е</td>\n",
       "      <td>У</td>\n",
       "      <td>Ч</td>\n",
       "      <td>В</td>\n",
       "    </tr>\n",
       "    <tr>\n",
       "      <th>476</th>\n",
       "      <td>Ш</td>\n",
       "      <td>К</td>\n",
       "      <td>У</td>\n",
       "      <td>А</td>\n",
       "    </tr>\n",
       "    <tr>\n",
       "      <th>477</th>\n",
       "      <td>В</td>\n",
       "      <td>Н</td>\n",
       "      <td>Ф</td>\n",
       "      <td>None</td>\n",
       "    </tr>\n",
       "  </tbody>\n",
       "</table>\n",
       "<p>478 rows × 4 columns</p>\n",
       "</div>"
      ],
      "text/plain": [
       "     0  1  2     3\n",
       "0    Ш  Д  _     А\n",
       "1    Е  К  У     Г\n",
       "2    В  К  О     Н\n",
       "3    Е  Н  У     С\n",
       "4    Ц  Ч  Й     Р\n",
       "..  .. .. ..   ...\n",
       "473  Ы  Д  Ч     Ы\n",
       "474  Ш  У  _     К\n",
       "475  Е  У  Ч     В\n",
       "476  Ш  К  У     А\n",
       "477  В  Н  Ф  None\n",
       "\n",
       "[478 rows x 4 columns]"
      ]
     },
     "execution_count": 65,
     "metadata": {},
     "output_type": "execute_result"
    }
   ],
   "source": [
    "first = wgl[::4]\n",
    "second = wgl[1::4]\n",
    "third = wgl[2::4]\n",
    "fourth = wgl[3::4]\n",
    "len(first), len(second), len(third), len(fourth)\n",
    "\n",
    "table = pd.DataFrame([first,second,third,fourth])\n",
    "table = table.T\n",
    "table"
   ]
  },
  {
   "cell_type": "markdown",
   "metadata": {},
   "source": [
    "Для русского языка индекс совпадения 0.053"
   ]
  },
  {
   "cell_type": "code",
   "execution_count": 75,
   "metadata": {},
   "outputs": [
    {
     "data": {
      "text/plain": [
       "0.05904230590423059"
      ]
     },
     "execution_count": 75,
     "metadata": {},
     "output_type": "execute_result"
    }
   ],
   "source": [
    "first_counts = table[0].value_counts().values\n",
    "n = len(first)\n",
    "first_sum = np.sum(first_counts * (first_counts - 1.0)/(n * (n - 1.0)))\n",
    "first_sum"
   ]
  },
  {
   "cell_type": "markdown",
   "metadata": {},
   "source": [
    "Для первого столбца индекс совпадения соответствует"
   ]
  },
  {
   "cell_type": "code",
   "execution_count": 76,
   "metadata": {},
   "outputs": [
    {
     "data": {
      "text/plain": [
       "0.05735813969807812"
      ]
     },
     "execution_count": 76,
     "metadata": {},
     "output_type": "execute_result"
    }
   ],
   "source": [
    "second_counts = table[1].value_counts().values\n",
    "n = len(second)\n",
    "second_sum = np.sum(second_counts * (second_counts - 1.0)/(n * (n - 1.0)))\n",
    "second_sum"
   ]
  },
  {
   "cell_type": "markdown",
   "metadata": {},
   "source": [
    "Для второго столбца индекс совпадения соответствует"
   ]
  },
  {
   "cell_type": "code",
   "execution_count": 77,
   "metadata": {},
   "outputs": [
    {
     "data": {
      "text/plain": [
       "0.06864731629869392"
      ]
     },
     "execution_count": 77,
     "metadata": {},
     "output_type": "execute_result"
    }
   ],
   "source": [
    "third_counts = table[2].value_counts().values\n",
    "n = len(third)\n",
    "third_sum = np.sum(third_counts * (third_counts - 1.0)/(n * (n - 1.0)))\n",
    "third_sum"
   ]
  },
  {
   "cell_type": "markdown",
   "metadata": {},
   "source": [
    "Для третьего столбца индекс совпадения завышенный, но может быть погрешность?"
   ]
  },
  {
   "cell_type": "code",
   "execution_count": 78,
   "metadata": {},
   "outputs": [
    {
     "data": {
      "text/plain": [
       "0.05893852277753206"
      ]
     },
     "execution_count": 78,
     "metadata": {},
     "output_type": "execute_result"
    }
   ],
   "source": [
    "fourth_counts = table[3].value_counts().values[:-1]\n",
    "n = len(fourth) - 1\n",
    "fourth_sum = np.sum(fourth_counts * (fourth_counts - 1.0)/(n * (n - 1.0)))\n",
    "fourth_sum"
   ]
  },
  {
   "cell_type": "markdown",
   "metadata": {},
   "source": [
    "Для четвертого столбца индекс совпадения соответствует"
   ]
  },
  {
   "cell_type": "markdown",
   "metadata": {},
   "source": [
    "## Вывод: Возможно, длина ключевого слова найдена правильно и равняется 4"
   ]
  },
  {
   "cell_type": "code",
   "execution_count": 92,
   "metadata": {},
   "outputs": [],
   "source": [
    "from collections import deque"
   ]
  },
  {
   "cell_type": "markdown",
   "metadata": {},
   "source": [
    "Следующая функция создает вариационный ряд по буквам переданного списка"
   ]
  },
  {
   "cell_type": "code",
   "execution_count": 255,
   "metadata": {},
   "outputs": [],
   "source": [
    "def make_table(lst):\n",
    "    num = np.zeros(34, 'int')\n",
    "    let = \"АБВГДЕЖЗИЙКЛМНОПРСТУФХЦЧШЩЪЫЬЭЮЯ_\"\n",
    "    res = dict(zip(let, num))\n",
    "    for l in lst:\n",
    "        res[l] +=1\n",
    "    return res"
   ]
  },
  {
   "cell_type": "code",
   "execution_count": 256,
   "metadata": {},
   "outputs": [],
   "source": [
    "def similarity(deq1: deque, deq2: deque, n1, n2):\n",
    "    res = 0.0\n",
    "    prev = np.inf\n",
    "    shift = 0\n",
    "    for i in range(0, len(deq2)):\n",
    "        statistic = 0.0\n",
    "\n",
    "        for j in range(0, len(deq2)):\n",
    "            statistic += (deq1[j] * deq2[j])\n",
    "        statistic /= (n1*n2)\n",
    "\n",
    "        if abs(statistic - 0.0615) < prev:\n",
    "            prev = abs(statistic - 0.0615)\n",
    "            res = statistic\n",
    "            shift = i\n",
    "        deq2.rotate(1)\n",
    "    return res, shift"
   ]
  },
  {
   "cell_type": "code",
   "execution_count": 257,
   "metadata": {},
   "outputs": [],
   "source": [
    "first_table = make_table(table[0])\n",
    "second_table = make_table(table[1])\n",
    "third_table = make_table(table[2])\n",
    "fourth_table = make_table(table[3][:-1])\n",
    "first_counts_sorted = deque(first_table.values())\n",
    "second_counts_sorted = deque(second_table.values())\n",
    "third_counts_sorted = deque(third_table.values())\n",
    "fourth_counts_sorted = deque(fourth_table.values())"
   ]
  },
  {
   "cell_type": "code",
   "execution_count": 258,
   "metadata": {},
   "outputs": [
    {
     "data": {
      "text/plain": [
       "(0.05848549570210605, 17)"
      ]
     },
     "execution_count": 258,
     "metadata": {},
     "output_type": "execute_result"
    }
   ],
   "source": [
    "MI12, shift2 = similarity(first_counts_sorted, second_counts_sorted, len(table[0]), len(table[1]))\n",
    "MI12, shift2"
   ]
  },
  {
   "cell_type": "code",
   "execution_count": 259,
   "metadata": {},
   "outputs": [
    {
     "data": {
      "text/plain": [
       "(0.06425395213669229, 7)"
      ]
     },
     "execution_count": 259,
     "metadata": {},
     "output_type": "execute_result"
    }
   ],
   "source": [
    "MI13, shift3 = similarity(first_counts_sorted, third_counts_sorted, len(table[0]), len(table[2]))\n",
    "MI13, shift3"
   ]
  },
  {
   "cell_type": "code",
   "execution_count": 260,
   "metadata": {},
   "outputs": [
    {
     "data": {
      "text/plain": [
       "(0.05925721252949484, 27)"
      ]
     },
     "execution_count": 260,
     "metadata": {},
     "output_type": "execute_result"
    }
   ],
   "source": [
    "MI14, shift4 = similarity(first_counts_sorted, fourth_counts_sorted, len(table[0]), len(table[3]) - 1)\n",
    "MI14, shift4"
   ]
  },
  {
   "cell_type": "code",
   "execution_count": 283,
   "metadata": {},
   "outputs": [
    {
     "data": {
      "text/html": [
       "<div>\n",
       "<style scoped>\n",
       "    .dataframe tbody tr th:only-of-type {\n",
       "        vertical-align: middle;\n",
       "    }\n",
       "\n",
       "    .dataframe tbody tr th {\n",
       "        vertical-align: top;\n",
       "    }\n",
       "\n",
       "    .dataframe thead th {\n",
       "        text-align: right;\n",
       "    }\n",
       "</style>\n",
       "<table border=\"1\" class=\"dataframe\">\n",
       "  <thead>\n",
       "    <tr style=\"text-align: right;\">\n",
       "      <th></th>\n",
       "      <th>0</th>\n",
       "      <th>1</th>\n",
       "      <th>2</th>\n",
       "      <th>3</th>\n",
       "    </tr>\n",
       "  </thead>\n",
       "  <tbody>\n",
       "    <tr>\n",
       "      <th>0</th>\n",
       "      <td>А</td>\n",
       "      <td>Р</td>\n",
       "      <td>Ъ</td>\n",
       "      <td>Ж</td>\n",
       "    </tr>\n",
       "    <tr>\n",
       "      <th>1</th>\n",
       "      <td>Б</td>\n",
       "      <td>С</td>\n",
       "      <td>Ы</td>\n",
       "      <td>З</td>\n",
       "    </tr>\n",
       "    <tr>\n",
       "      <th>2</th>\n",
       "      <td>В</td>\n",
       "      <td>Т</td>\n",
       "      <td>Ь</td>\n",
       "      <td>И</td>\n",
       "    </tr>\n",
       "    <tr>\n",
       "      <th>3</th>\n",
       "      <td>Г</td>\n",
       "      <td>У</td>\n",
       "      <td>Э</td>\n",
       "      <td>Й</td>\n",
       "    </tr>\n",
       "    <tr>\n",
       "      <th>4</th>\n",
       "      <td>Д</td>\n",
       "      <td>Ф</td>\n",
       "      <td>Ю</td>\n",
       "      <td>К</td>\n",
       "    </tr>\n",
       "    <tr>\n",
       "      <th>5</th>\n",
       "      <td>Е</td>\n",
       "      <td>Х</td>\n",
       "      <td>Я</td>\n",
       "      <td>Л</td>\n",
       "    </tr>\n",
       "    <tr>\n",
       "      <th>6</th>\n",
       "      <td>Ж</td>\n",
       "      <td>Ц</td>\n",
       "      <td>_</td>\n",
       "      <td>М</td>\n",
       "    </tr>\n",
       "    <tr>\n",
       "      <th>7</th>\n",
       "      <td>З</td>\n",
       "      <td>Ч</td>\n",
       "      <td>А</td>\n",
       "      <td>Н</td>\n",
       "    </tr>\n",
       "    <tr>\n",
       "      <th>8</th>\n",
       "      <td>И</td>\n",
       "      <td>Ш</td>\n",
       "      <td>Б</td>\n",
       "      <td>О</td>\n",
       "    </tr>\n",
       "    <tr>\n",
       "      <th>9</th>\n",
       "      <td>Й</td>\n",
       "      <td>Щ</td>\n",
       "      <td>В</td>\n",
       "      <td>П</td>\n",
       "    </tr>\n",
       "    <tr>\n",
       "      <th>10</th>\n",
       "      <td>К</td>\n",
       "      <td>Ъ</td>\n",
       "      <td>Г</td>\n",
       "      <td>Р</td>\n",
       "    </tr>\n",
       "    <tr>\n",
       "      <th>11</th>\n",
       "      <td>Л</td>\n",
       "      <td>Ы</td>\n",
       "      <td>Д</td>\n",
       "      <td>С</td>\n",
       "    </tr>\n",
       "    <tr>\n",
       "      <th>12</th>\n",
       "      <td>М</td>\n",
       "      <td>Ь</td>\n",
       "      <td>Е</td>\n",
       "      <td>Т</td>\n",
       "    </tr>\n",
       "    <tr>\n",
       "      <th>13</th>\n",
       "      <td>Н</td>\n",
       "      <td>Э</td>\n",
       "      <td>Ж</td>\n",
       "      <td>У</td>\n",
       "    </tr>\n",
       "    <tr>\n",
       "      <th>14</th>\n",
       "      <td>О</td>\n",
       "      <td>Ю</td>\n",
       "      <td>З</td>\n",
       "      <td>Ф</td>\n",
       "    </tr>\n",
       "    <tr>\n",
       "      <th>15</th>\n",
       "      <td>П</td>\n",
       "      <td>Я</td>\n",
       "      <td>И</td>\n",
       "      <td>Х</td>\n",
       "    </tr>\n",
       "    <tr>\n",
       "      <th>16</th>\n",
       "      <td>Р</td>\n",
       "      <td>_</td>\n",
       "      <td>Й</td>\n",
       "      <td>Ц</td>\n",
       "    </tr>\n",
       "    <tr>\n",
       "      <th>17</th>\n",
       "      <td>С</td>\n",
       "      <td>А</td>\n",
       "      <td>К</td>\n",
       "      <td>Ч</td>\n",
       "    </tr>\n",
       "    <tr>\n",
       "      <th>18</th>\n",
       "      <td>Т</td>\n",
       "      <td>Б</td>\n",
       "      <td>Л</td>\n",
       "      <td>Ш</td>\n",
       "    </tr>\n",
       "    <tr>\n",
       "      <th>19</th>\n",
       "      <td>У</td>\n",
       "      <td>В</td>\n",
       "      <td>М</td>\n",
       "      <td>Щ</td>\n",
       "    </tr>\n",
       "    <tr>\n",
       "      <th>20</th>\n",
       "      <td>Ф</td>\n",
       "      <td>Г</td>\n",
       "      <td>Н</td>\n",
       "      <td>Ъ</td>\n",
       "    </tr>\n",
       "    <tr>\n",
       "      <th>21</th>\n",
       "      <td>Х</td>\n",
       "      <td>Д</td>\n",
       "      <td>О</td>\n",
       "      <td>Ы</td>\n",
       "    </tr>\n",
       "    <tr>\n",
       "      <th>22</th>\n",
       "      <td>Ц</td>\n",
       "      <td>Е</td>\n",
       "      <td>П</td>\n",
       "      <td>Ь</td>\n",
       "    </tr>\n",
       "    <tr>\n",
       "      <th>23</th>\n",
       "      <td>Ч</td>\n",
       "      <td>Ж</td>\n",
       "      <td>Р</td>\n",
       "      <td>Э</td>\n",
       "    </tr>\n",
       "    <tr>\n",
       "      <th>24</th>\n",
       "      <td>Ш</td>\n",
       "      <td>З</td>\n",
       "      <td>С</td>\n",
       "      <td>Ю</td>\n",
       "    </tr>\n",
       "    <tr>\n",
       "      <th>25</th>\n",
       "      <td>Щ</td>\n",
       "      <td>И</td>\n",
       "      <td>Т</td>\n",
       "      <td>Я</td>\n",
       "    </tr>\n",
       "    <tr>\n",
       "      <th>26</th>\n",
       "      <td>Ъ</td>\n",
       "      <td>Й</td>\n",
       "      <td>У</td>\n",
       "      <td>_</td>\n",
       "    </tr>\n",
       "    <tr>\n",
       "      <th>27</th>\n",
       "      <td>Ы</td>\n",
       "      <td>К</td>\n",
       "      <td>Ф</td>\n",
       "      <td>А</td>\n",
       "    </tr>\n",
       "    <tr>\n",
       "      <th>28</th>\n",
       "      <td>Ь</td>\n",
       "      <td>Л</td>\n",
       "      <td>Х</td>\n",
       "      <td>Б</td>\n",
       "    </tr>\n",
       "    <tr>\n",
       "      <th>29</th>\n",
       "      <td>Э</td>\n",
       "      <td>М</td>\n",
       "      <td>Ц</td>\n",
       "      <td>В</td>\n",
       "    </tr>\n",
       "    <tr>\n",
       "      <th>30</th>\n",
       "      <td>Ю</td>\n",
       "      <td>Н</td>\n",
       "      <td>Ч</td>\n",
       "      <td>Г</td>\n",
       "    </tr>\n",
       "    <tr>\n",
       "      <th>31</th>\n",
       "      <td>Я</td>\n",
       "      <td>О</td>\n",
       "      <td>Ш</td>\n",
       "      <td>Д</td>\n",
       "    </tr>\n",
       "    <tr>\n",
       "      <th>32</th>\n",
       "      <td>_</td>\n",
       "      <td>П</td>\n",
       "      <td>Щ</td>\n",
       "      <td>Е</td>\n",
       "    </tr>\n",
       "  </tbody>\n",
       "</table>\n",
       "</div>"
      ],
      "text/plain": [
       "    0  1  2  3\n",
       "0   А  Р  Ъ  Ж\n",
       "1   Б  С  Ы  З\n",
       "2   В  Т  Ь  И\n",
       "3   Г  У  Э  Й\n",
       "4   Д  Ф  Ю  К\n",
       "5   Е  Х  Я  Л\n",
       "6   Ж  Ц  _  М\n",
       "7   З  Ч  А  Н\n",
       "8   И  Ш  Б  О\n",
       "9   Й  Щ  В  П\n",
       "10  К  Ъ  Г  Р\n",
       "11  Л  Ы  Д  С\n",
       "12  М  Ь  Е  Т\n",
       "13  Н  Э  Ж  У\n",
       "14  О  Ю  З  Ф\n",
       "15  П  Я  И  Х\n",
       "16  Р  _  Й  Ц\n",
       "17  С  А  К  Ч\n",
       "18  Т  Б  Л  Ш\n",
       "19  У  В  М  Щ\n",
       "20  Ф  Г  Н  Ъ\n",
       "21  Х  Д  О  Ы\n",
       "22  Ц  Е  П  Ь\n",
       "23  Ч  Ж  Р  Э\n",
       "24  Ш  З  С  Ю\n",
       "25  Щ  И  Т  Я\n",
       "26  Ъ  Й  У  _\n",
       "27  Ы  К  Ф  А\n",
       "28  Ь  Л  Х  Б\n",
       "29  Э  М  Ц  В\n",
       "30  Ю  Н  Ч  Г\n",
       "31  Я  О  Ш  Д\n",
       "32  _  П  Щ  Е"
      ]
     },
     "execution_count": 283,
     "metadata": {},
     "output_type": "execute_result"
    }
   ],
   "source": [
    "keys1 = deque(first_table.keys())\n",
    "keys2 = deque(second_table.keys())\n",
    "keys2.rotate(shift2)\n",
    "keys3 = deque(third_table.keys())\n",
    "keys3.rotate(shift3)\n",
    "keys4 = deque(fourth_table.keys())\n",
    "keys4.rotate(shift4)\n",
    "\n",
    "table_shifted = pd.DataFrame([keys1, keys2, keys3, keys4]).T\n",
    "table_shifted"
   ]
  },
  {
   "cell_type": "markdown",
   "metadata": {},
   "source": [
    "# Клычевое слово ЦЕПЬ. Находится в стороке №22"
   ]
  },
  {
   "cell_type": "code",
   "execution_count": 282,
   "metadata": {},
   "outputs": [],
   "source": [
    "alphabet = \"АБВГДЕЖЗИЙКЛМНОПРСТУФХЦЧШЩЪЫЬЭЮЯ_\""
   ]
  },
  {
   "cell_type": "markdown",
   "metadata": {},
   "source": [
    "### Сдвигаем все буквы ключа к началу"
   ]
  },
  {
   "cell_type": "code",
   "execution_count": 263,
   "metadata": {},
   "outputs": [],
   "source": [
    "key_1 = keys1.copy()\n",
    "key_2 = keys2.copy()\n",
    "key_3 = keys3.copy()\n",
    "key_4 = keys4.copy()\n",
    "key_1.rotate(-22)\n",
    "key_2.rotate(-22)\n",
    "key_3.rotate(-22)\n",
    "key_4.rotate(-22)"
   ]
  },
  {
   "cell_type": "code",
   "execution_count": 276,
   "metadata": {},
   "outputs": [],
   "source": [
    "key_dict = [key_1, key_2, key_3, key_4]"
   ]
  },
  {
   "cell_type": "code",
   "execution_count": 281,
   "metadata": {},
   "outputs": [
    {
     "data": {
      "text/plain": [
       "'В_СЕРЕДИНЕ_ТРИДЦАТЫХ_ГОДОВ_АЛАН_ТЬЮРИНГ_БЛЕСТЯЩИЙ_БРИТАНСКИЙ_МАТЕМАТИК_КАК_И_БЕББИДЖ_ПОЛУЧИВШИЙ_ОБРАЗОВАНИЕ_В_КЕМБРИДЖЕ_ПРЕДЛОЖИЛ_СВОЙ_ВАРИАНТ_УНИВЕРСАЛЬНОЙ_ВЫЧИСЛИТЕЛЬНОЙ_МАШИНЫ_КОТОРАЯ_МОГЛА_БЫ_В_ЗАВИСИМОСТИ_ОТ_КОНКРЕТНЫХ_ИНСТРУКЦИЙ_РАБОТАТЬ_ПРАКТИЧЕСКИ_С_ЛЮБЫМ_ВИДОМ_ИНФОРМАЦИИ_СЕГОДНЯ_ОНА_ИЗВЕСТНА_КАК_МАШИНА_ТЬЮРИНГА_А_В_КОНЦЕ_ТРИДЦАТЫХ_КЛОД_ШЕННОН_ТОГДА_ЕЩЕ_СТУДЕНТ_ДОКАЗАЛ_ЧТО_МАШИНА_ИСПОЛНЯЮЩАЯ_ЛОГИЧЕСКИЕ_ИНСТРУКЦИИ_МОЖЕТ_МАНИПУЛИРОВАТЬ_ИНФОРМАЦИЕЙ_В_СВОЕЙ_МАГИСТЕРСКОЙ_ДИССЕРТАЦИИ_ОН_РАССМОТРЕЛ_КАК_С_ПОМОЩЬЮ_ЭЛЕКТРИЧЕСКИХ_ЦЕПЕЙ_КОМПЬЮТЕРА_ВЫПОЛНЯТЬ_ЛОГИЧЕСКИЕ_ОПЕРАЦИИ_ГДЕ_ЕДИНИЦА_ИСТИНА_ЦЕПЬ_ЗАМКНУТА_А_НУЛЬ_ЛОЖЬ_ЦЕПЬ_РАЗОМКНУТА_ЗДЕСЬ_РЕЧЬ_ИДЕТ_О_ДВОИЧНОЙ_СИСТЕМЕ_СЧИСЛЕНИЯ_ИНАЧЕ_ГОВОРЯ_О_КОДЕ_ДВОИЧНАЯ_СИСТЕМА_ЭТО_АЗБУКА_ЭЛЕКТРОННЫХ_КОМПЬЮТЕРОВ_ОСНОВА_ЯЗЫКА_НА_КОТОРЫЙ_ПЕРЕВОДИТСЯ_И_С_ПОМОЩЬЮ_КОТОРОГО_ХРАНИТСЯ_И_ИСПОЛЬЗУЕТСЯ_ВСЯ_ИНФОРМАЦИЯ_В_КОМПЬЮТЕРЕ_ЭТА_СИСТЕМА_ОЧЕНЬ_ПРОСТА_И_В_ТО_ЖЕ_ВРЕМЯ_НАСТОЛЬКО_ВАЖНА_ДЛЯ_ПОНИМАНИЯ_ТОГО_КАК_РАБОТАЮТ_КОМПЬЮТЕРЫ_ЧТО_ПОЖАЛУЙ_СТОИТ_НА_ЭТОМ_ЗАДЕРЖАТЬСЯ_ПРЕДСТАВЬТЕ_ЧТО_В_ВАШЕЙ_КОМНАТЕ_ДОЛЖНА_ГОРЕТЬ_ЛАМПА_МОЩНОСТЬЮ_В_ДВЕСТИ_ПЯТЬДЕСЯТ_ВАТТ_ОДНАКО_ВЫ_ХОТИТЕ_РЕГУЛИРОВАТЬ_ОСВЕЩЕНИЕ_ОТ_НОЛЯ_ВАТТ_ПОЛНАЯ_ТЕМНОТА_ДО_МАКСИМУМА_ОДИН_ИЗ_СПОСОБОВ_ДОБИТЬСЯ_ЭТОГО_ВОСПОЛЬЗОВАТЬСЯ_ВЫКЛЮЧАТЕЛЕМ_С_РЕГУЛЯТОРОМ_ЧТОБЫ_ПОГАСИТЬ_ЛАМПУ_ВЫ_ПОВОРАЧИВАЕТЕ_РУЧКУ_ПРОТИВ_ЧАСОВОЙ_СТРЕЛКИ_В_ПОЛОЖЕНИЕ_ВЫКЛ_А_ЧТОБЫ_ВКЛЮЧИТЬ_ЕЕ_НА_ВСЮ_КАТУШКУ_ПО_ЧАСОВОЙ_СТРЕЛКЕ_ДО_УПОРА_НУ_А_ЧТОБЫ_ДОБИТЬСЯ_ПОЛУМРАКА_ИЛИ_ПРОСТО_УМЕНЬШИТЬ_ЯРКОСТЬ_ВЫ_УСТАНАВЛИВАЕТЕ_РЕГУЛЯТОР_В_КАКОЕТО_ПРОМЕЖУТОЧНОЕ_ПОЛОЖЕНИЕ_ТАКАЯ_СИСТЕМА_ПРОСТА_НО_ИМЕЕТ_СВОИ_ОГРАНИЧЕНИЯ_ЕСЛИ_РЕГУЛЯТОР_НАХОДИТСЯ_В_ПРОМЕЖУТОЧНОМ_ПОЛОЖЕНИИ_СКАЖЕМ_ВЫ_ПРИГЛУШИЛИ_СВЕТ_ДЛЯ_УЖИНА_В_ИНТИМНОЙ_ОБСТАНОВКЕ_ОСТАНЕТСЯ_ЛИШЬ_ГАДАТЬ_КАКОВ_СЕЙЧАС_УРОВЕНЬ_ОСВЕЩЕНИЯ_ВАМ_НЕ_ИЗВЕСТНО_НИ_ТО_КАКУЮ_МОЩНОСТЬ_БЕРЕТ_ЛАМПА_В_ДАННЫЙ_МОМЕНТ_НИ_ТО_КАК_ТОЧНО_ОПИСАТЬ_НАСТРОЙКУ_РЕГУЛЯТОРА_ВАША_ИНФОРМАЦИЯ_ПРИБЛИЗИТЕЛЬНА_ЧТО_ЗАТРУДНЯЕТ_ЕЕ_СОХРАНЕНИЕ_И_ВОСПРОИЗВЕДЕНИЕ'"
      ]
     },
     "execution_count": 281,
     "metadata": {},
     "output_type": "execute_result"
    }
   ],
   "source": [
    "decoded = \"\"\n",
    "for i in range(len(wg)):\n",
    "    decoded+=(alphabet[key_dict[i%4].index(wg[i])])\n",
    "decoded"
   ]
  },
  {
   "cell_type": "code",
   "execution_count": null,
   "metadata": {},
   "outputs": [],
   "source": []
  }
 ],
 "metadata": {
  "interpreter": {
   "hash": "63fd5069d213b44bf678585dea6b12cceca9941eaf7f819626cde1f2670de90d"
  },
  "kernelspec": {
   "display_name": "Python 3.9.1 64-bit",
   "language": "python",
   "name": "python3"
  },
  "language_info": {
   "codemirror_mode": {
    "name": "ipython",
    "version": 3
   },
   "file_extension": ".py",
   "mimetype": "text/x-python",
   "name": "python",
   "nbconvert_exporter": "python",
   "pygments_lexer": "ipython3",
   "version": "3.9.1"
  },
  "orig_nbformat": 4
 },
 "nbformat": 4,
 "nbformat_minor": 2
}
